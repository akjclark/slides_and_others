{
 "cells": [
  {
   "cell_type": "code",
   "execution_count": 1,
   "metadata": {
    "collapsed": true
   },
   "outputs": [],
   "source": [
    "import numpy as np\n",
    "import matplotlib.pyplot as plt\n",
    "%matplotlib inline"
   ]
  },
  {
   "cell_type": "markdown",
   "metadata": {},
   "source": [
    "# 數值微分\n",
    "## df(x) / dx = lim h-> 0 (f(x+h) - f(x)) / h"
   ]
  },
  {
   "cell_type": "code",
   "execution_count": 2,
   "metadata": {
    "collapsed": false
   },
   "outputs": [
    {
     "name": "stdout",
     "output_type": "stream",
     "text": [
      "0.0\n",
      "0.0\n",
      "0.1999999999990898\n",
      "0.2999999999986347\n"
     ]
    }
   ],
   "source": [
    "# Define a target function\n",
    "def my_function(x):\n",
    "    # y = 0.01x^2 + 0.1x\n",
    "    return 0.01*x**2 + 0.1*x\n",
    "\n",
    "# Wrong Example\n",
    "def numerical_diff_1(f, x):\n",
    "    h = 10e-50\n",
    "    return (f(x+h) - f(x)) / h\n",
    "\n",
    "# Correct Example\n",
    "def numerical_diff_2(f, x):\n",
    "    h = 1e-4\n",
    "    return ( f(x+h) - f(x-h) ) / (2 * h)\n",
    "\n",
    "print(numerical_diff_1(my_function, 5))\n",
    "print(numerical_diff_1(my_function, 10))\n",
    "print(numerical_diff_2(my_function, 5))\n",
    "print(numerical_diff_2(my_function, 10))"
   ]
  },
  {
   "cell_type": "markdown",
   "metadata": {},
   "source": [
    "# 偏微分\n",
    "$ y = x0^2 + x1^2 $\n",
    "\n",
    "1) if $ x0 = 3, x1 = 4, df / dx0 = ? $\n",
    "\n",
    "2) if $ x0 = 3, x1 = 4, df / dx1 = ? $"
   ]
  },
  {
   "cell_type": "code",
   "execution_count": 3,
   "metadata": {
    "collapsed": false
   },
   "outputs": [
    {
     "name": "stdout",
     "output_type": "stream",
     "text": [
      "6.00000000000378\n",
      "7.999999999999119\n"
     ]
    }
   ],
   "source": [
    "# Only example\n",
    "# y = x0^2 + x1^2\n",
    "def partial_derivative(x):\n",
    "    return x[0]**2 + x[1]**2\n",
    "\n",
    "# if x0 = 3, x1=4, ask: df/dx0\n",
    "def par_dev_fun1(x0):\n",
    "    return (x0**2) + (4 * 2)\n",
    "\n",
    "# if x0 = 3, x1=4, ask: df/dx1\n",
    "def par_dev_fun2(x1):\n",
    "    return (2 * 3) + (x1**2)\n",
    "\n",
    "print(numerical_diff_2(par_dev_fun1, 3))\n",
    "print(numerical_diff_2(par_dev_fun2, 4))"
   ]
  },
  {
   "cell_type": "markdown",
   "metadata": {},
   "source": [
    "# 梯度\n",
    "### To visualize the curve: https://goo.gl/iXTXGc"
   ]
  },
  {
   "cell_type": "code",
   "execution_count": 4,
   "metadata": {
    "collapsed": false
   },
   "outputs": [
    {
     "name": "stdout",
     "output_type": "stream",
     "text": [
      "[ 6.  8.]\n",
      "[ 6.  4.]\n",
      "[ 0.  0.]\n"
     ]
    }
   ],
   "source": [
    "def numerical_gradient(f, x):\n",
    "    h = 1e-4 # 0.0001\n",
    "    grad = np.zeros_like(x)\n",
    "    \n",
    "    it = np.nditer(x, flags=['multi_index'], op_flags=['readwrite']) # a multi-dimensional iterator (to iterate over an array)\n",
    "    while not it.finished:\n",
    "        idx = it.multi_index\n",
    "        tmp_val = x[idx]\n",
    "        x[idx] = float(tmp_val) + h\n",
    "        # print(f(x))\n",
    "        fxh1 = f(x) # f(x+h)\n",
    "        \n",
    "        x[idx] = tmp_val - h \n",
    "        fxh2 = f(x) # f(x-h)\n",
    "        grad[idx] = (fxh1 - fxh2) / (2*h)\n",
    "        \n",
    "        x[idx] = tmp_val\n",
    "        it.iternext()   \n",
    "        \n",
    "    return grad\n",
    "\n",
    "print(numerical_gradient(partial_derivative, np.array([3.0, 4.0])))\n",
    "print(numerical_gradient(partial_derivative, np.array([3.0, 2.0])))\n",
    "print(numerical_gradient(partial_derivative, np.array([0.0, 0.0])))"
   ]
  },
  {
   "cell_type": "markdown",
   "metadata": {},
   "source": [
    "$$ x^2 + y^2 $$\n",
    "$$ x^2 - y^2 $$\n",
    "![Image of gradient](https://mse.redwoods.edu/darnold/math50c/matlab/gradient/figure3.png)"
   ]
  },
  {
   "cell_type": "markdown",
   "metadata": {},
   "source": [
    "# Single Layer Neural network"
   ]
  },
  {
   "cell_type": "code",
   "execution_count": 40,
   "metadata": {
    "collapsed": true
   },
   "outputs": [],
   "source": [
    "# define activation: softmax\n",
    "def softmax(x):\n",
    "    if x.ndim == 2:\n",
    "        x = x.T # Transpose it\n",
    "        x = x - np.max(x, axis=0)\n",
    "        y = np.exp(x) / np.sum(np.exp(x), axis=0)\n",
    "        return y.T \n",
    "    return np.exp(x) / np.sum(np.exp(x))\n",
    "\n",
    "# define activation: sigmoid\n",
    "def sigmoid(x):\n",
    "    return 1 / (1 + np.exp(-x))\n",
    "\n",
    "# define cross_entropy\n",
    "def cross_entropy(y, t):\n",
    "    if y.ndim == 1:\n",
    "        t = t.reshape(1, t.size)\n",
    "        y = y.reshape(1, y.size)\n",
    "        \n",
    "    if t.size == y.size:\n",
    "        t = t.argmax(axis=1)\n",
    "             \n",
    "    batch_size = y.shape[0]\n",
    "    return -np.sum(np.log(y[np.arange(batch_size), t] + 1e-7)) / batch_size"
   ]
  },
  {
   "cell_type": "code",
   "execution_count": 41,
   "metadata": {
    "collapsed": true
   },
   "outputs": [],
   "source": [
    "class simple_feedforward_network:\n",
    "    def __init__(self):\n",
    "        self.W = np.random.randn(2,3)\n",
    "        \n",
    "    def predict(self, x):\n",
    "        return np.dot(x, self.W)\n",
    "    \n",
    "    def loss(self, x, t):\n",
    "        z = self.predict(x)\n",
    "        y = softmax(z)\n",
    "        loss = cross_entropy(y, t)\n",
    "        return loss\n",
    "    "
   ]
  },
  {
   "cell_type": "code",
   "execution_count": 42,
   "metadata": {
    "collapsed": false
   },
   "outputs": [
    {
     "name": "stdout",
     "output_type": "stream",
     "text": [
      "[[-0.98087398  0.98255087 -0.58693785]\n",
      " [-1.19484347 -1.65856974 -0.63284968]]\n"
     ]
    },
    {
     "data": {
      "text/plain": [
       "0.91421013410416574"
      ]
     },
     "execution_count": 42,
     "metadata": {},
     "output_type": "execute_result"
    }
   ],
   "source": [
    "net = simple_feedforward_network()\n",
    "print(net.W)\n",
    "\n",
    "x = np.array([0.6, 0.9])\n",
    "p = net.predict(x)\n",
    "\n",
    "np.argmax(x)\n",
    "t = np.array([0, 0, 1])\n",
    "net.loss(x,t)"
   ]
  },
  {
   "cell_type": "code",
   "execution_count": 43,
   "metadata": {
    "collapsed": false
   },
   "outputs": [
    {
     "name": "stdout",
     "output_type": "stream",
     "text": [
      "[[-0.98087398  0.98255087 -0.58693785]\n",
      " [-1.19484347 -1.65856974 -0.63284968]]\n",
      "[[ 0.11449864  0.24500147 -0.35950011]\n",
      " [ 0.17174796  0.3675022  -0.53925016]]\n"
     ]
    }
   ],
   "source": [
    "def f(W):\n",
    "    return net.loss(x,t)\n",
    "print(net.W)\n",
    "dW = numerical_gradient(f, net.W)\n",
    "print(dW)"
   ]
  },
  {
   "cell_type": "markdown",
   "metadata": {},
   "source": [
    "# Define two layer network"
   ]
  },
  {
   "cell_type": "code",
   "execution_count": 44,
   "metadata": {
    "collapsed": true
   },
   "outputs": [],
   "source": [
    "class Two_layerNet:\n",
    "    def __init__(self, \n",
    "                 input_size, \n",
    "                 hidden_size, \n",
    "                 output_size, \n",
    "                 weight_init_std = 0.01):\n",
    "        self.params = {}\n",
    "        self.params['w1'] = weight_init_std * np.random.randn(input_size, hidden_size)\n",
    "        self.params['b1'] = np.zeros(hidden_size)\n",
    "        self.params['w2'] = weight_init_std * np.random.randn(hidden_size, output_size)\n",
    "        self.params['b2'] = np.zeros(output_size)\n",
    "        \n",
    "    def predict(self, x):\n",
    "        # forward\n",
    "        w1, w2 = self.params['w1'], self.params['w2']\n",
    "        b1, b2 = self.params['b1'], self.params['b2']\n",
    "        \n",
    "        a1 = np.dot(x, w1) + b1\n",
    "        z1 = sigmoid(a1)\n",
    "        \n",
    "        a2 = np.dot(z1, w2) + b2\n",
    "        y = softmax(a2)\n",
    "        return y\n",
    "        \n",
    "    def loss(self, x, y_true):\n",
    "        y_pred = self.predict(x)\n",
    "        return cross_entropy(y_pred, y_true)\n",
    "    \n",
    "    def compute_acc(self, x, y_true):\n",
    "        y_pred = self.predict(x)\n",
    "        # take argmax\n",
    "        y_pred = y_pred.argmax(axis = 1) \n",
    "        y_true = y_true.argmax(axis = 1)\n",
    "        \n",
    "        acc = np.sum(y_pred == y_true) / len(y_true)\n",
    "        return acc\n",
    "    \n",
    "    def numerical_gradient(self, x, y_true):\n",
    "        loss_W = lambda W: self.loss(x, y_true)\n",
    "        grads = {}\n",
    "        grads['w1'] = numerical_gradient(loss_W, self.params['w1'])\n",
    "        grads['b1'] = numerical_gradient(loss_W, self.params['b1'])\n",
    "        grads['w2'] = numerical_gradient(loss_W, self.params['w2'])\n",
    "        grads['b2'] = numerical_gradient(loss_W, self.params['b2'])\n",
    "        \n",
    "        return grads"
   ]
  },
  {
   "cell_type": "code",
   "execution_count": 45,
   "metadata": {
    "collapsed": false
   },
   "outputs": [
    {
     "name": "stderr",
     "output_type": "stream",
     "text": [
      "100%|██████████████████████████████████████████████████████| 5001/5001 [38:36<00:00,  2.16it/s]\n"
     ]
    },
    {
     "data": {
      "image/png": "[encoded data removed]",
      "text/plain": [
       "<matplotlib.figure.Figure at 0x1d59c4d7f98>"
      ]
     },
     "metadata": {},
     "output_type": "display_data"
    },
    {
     "data": {
      "text/plain": [
       "<matplotlib.legend.Legend at 0x1d59e6e2550>"
      ]
     },
     "execution_count": 45,
     "metadata": {},
     "output_type": "execute_result"
    },
    {
     "data": {
      "image/png": "[encoded data removed]",
      "text/plain": [
       "<matplotlib.figure.Figure at 0x1d59c5c8e10>"
      ]
     },
     "metadata": {},
     "output_type": "display_data"
    }
   ],
   "source": [
    "from sklearn.datasets import load_digits\n",
    "from sklearn.model_selection import train_test_split\n",
    "from tqdm import tqdm\n",
    "digits = load_digits()\n",
    "\n",
    "x_, y_ = digits.data, digits.target\n",
    "\n",
    "# do some data preprocessing\n",
    "y_one_hot = np.zeros((len(y_), 10))\n",
    "y_one_hot[np.arange(len(y_)), y_] = 1\n",
    "\n",
    "x_ = x_ / x_.max() # normailze it to 0 - 1\n",
    "\n",
    "# do train_test split\n",
    "x_train, x_test, y_train, y_test = train_test_split(x_, y_one_hot, test_size = 0.1, stratify = y_)\n",
    "\n",
    "# define training settings ------------\n",
    "train_loss_list = []\n",
    "train_acc_list = []\n",
    "test_acc_list = []\n",
    "\n",
    "iters_num = 5001\n",
    "train_size = x_train.shape[0] # numbers of training samples\n",
    "bz = 100 # batch size\n",
    "lr = 0.1 # learning rate\n",
    "\n",
    "network = Two_layerNet(input_size=64, hidden_size=25, output_size=10)\n",
    "\n",
    "for i in tqdm(range(iters_num)):\n",
    "    batch_mask = np.random.choice(train_size, bz)\n",
    "    x_batch = x_train[batch_mask]\n",
    "    y_batch = y_train[batch_mask]\n",
    "    \n",
    "    grad = network.numerical_gradient(x_batch, y_batch) # already contain a feed-forward processing in this step\n",
    "    \n",
    "    for key in (\"w1\", \"b1\", \"w2\", \"b2\"):\n",
    "        network.params[key] -= lr * grad[key]\n",
    "        \n",
    "    this_loss = network.loss(x_batch, y_batch)\n",
    "    train_loss_list.append(this_loss)\n",
    "    \n",
    "    if i % 100 == 0:\n",
    "        # compute accuracy for every 50 updates\n",
    "        train_acc = network.compute_acc(x_train, y_train)\n",
    "        test_acc = network.compute_acc(x_test, y_test)\n",
    "        \n",
    "        train_acc_list.append(train_acc)\n",
    "        test_acc_list.append(test_acc)\n",
    "        \n",
    "        #print(\"Train accuarcy, Test accuracy | \" + str(train_acc) + \", \" + str(test_acc))\n",
    "        \n",
    "plt.plot(np.arange(len(train_loss_list)), train_loss_list, 'b-')\n",
    "plt.show()\n",
    "\n",
    "plt.plot(np.arange(len(train_acc_list)), train_acc_list, 'b-', label = 'training accuracy')\n",
    "plt.plot(np.arange(len(test_acc_list)), test_acc_list, 'r-', label = 'validation accuracy')\n",
    "plt.legend(bbox_to_anchor=(1.05, 1), loc=2, borderaxespad=0.)"
   ]
  },
  {
   "cell_type": "markdown",
   "metadata": {},
   "source": [
    "# Create network by layers and use gradient descent with computation graph\n",
    "### 可以把每個操作拆解成局部區域進行微分: Simple examples\n",
    "\n",
    "超商裡的蘋果 1 顆 100 元, 橘子 1 顆 150 元, 結帳時要抽 10% 營業稅, 如果小明買了 2 顆蘋果和 3 顆橘子, 請問若 ... <br>\n",
    "1. 多買一顆蘋果，對結帳價錢的變化?\n",
    "2. 蘋果一顆的價錢漲 1 元時，對結帳價錢的變化?\n",
    "3. 營業稅多 1% 時，對價錢的變化?"
   ]
  },
  {
   "cell_type": "code",
   "execution_count": 29,
   "metadata": {
    "collapsed": false
   },
   "outputs": [
    {
     "name": "stdout",
     "output_type": "stream",
     "text": [
      "apple price: 220\n",
      "dApple: 1.10\n",
      "dApple_num: 110.00\n",
      "dTax: 200.00\n"
     ]
    }
   ],
   "source": [
    "class mul_layer():\n",
    "    def __init__(self):\n",
    "        self.x = None\n",
    "        self.y = None\n",
    "    def forward(self, x, y):\n",
    "        self.x = x\n",
    "        self.y = y\n",
    "        out = x * y\n",
    "        return out\n",
    "    def backward(self, dout):\n",
    "        dx = dout * self.y\n",
    "        dy = dout * self.x\n",
    "        return dx, dy\n",
    "    \n",
    "# ----------- #\n",
    "n_apples = 2\n",
    "price_per_apple = 100\n",
    "tax = 1.1\n",
    "\n",
    "# Build network\n",
    "mul_apple_layer = mul_layer()\n",
    "mul_tax_layer = mul_layer()\n",
    "\n",
    "# forward\n",
    "apple_price = mul_apple_layer.forward(price_per_apple, n_apples)\n",
    "price = mul_tax_layer.forward(apple_price, tax)\n",
    "\n",
    "# backward\n",
    "dprice = 1\n",
    "d_apple_price, d_tax = mul_tax_layer.backward(dprice)\n",
    "d_apple, d_apple_num = mul_apple_layer.backward(d_apple_price)\n",
    "\n",
    "# results\n",
    "print(\"apple price: %i\" % price)\n",
    "print(\"dApple: %.2f\" % d_apple_price)\n",
    "print(\"dApple_num: %.2f\" % d_apple_num)\n",
    "print(\"dTax: %.2f\" % d_tax)"
   ]
  },
  {
   "cell_type": "markdown",
   "metadata": {},
   "source": [
    "## Exercise\n",
    "- 多買一顆橘子，對結帳價錢的變化?\n",
    "- 橘子一顆的價錢漲 1 元時，對結帳價錢的變化?"
   ]
  },
  {
   "cell_type": "code",
   "execution_count": 27,
   "metadata": {
    "collapsed": false
   },
   "outputs": [
    {
     "name": "stdout",
     "output_type": "stream",
     "text": [
      "total price: 715\n",
      "dApple: 2.20\n",
      "dApple_num: 110.00\n",
      "dOrange: 3.30\n",
      "dOrange_num: 165.00\n",
      "dTax: 650.00\n"
     ]
    }
   ],
   "source": [
    "class add_layer():\n",
    "    def __init__(self):\n",
    "        pass\n",
    "    def forward(self, x, y):\n",
    "        return x+y\n",
    "    def backward(self, dout):\n",
    "        dx = dout * 1\n",
    "        dy = dout * 1\n",
    "        return dx, dy\n",
    "\n",
    "n_apples = 2\n",
    "n_oranges = 3\n",
    "price_per_apple = 100\n",
    "price_per_orange = 150\n",
    "tax = 1.1\n",
    "\n",
    "# Build network\n",
    "mul_apple_layer = mul_layer()\n",
    "mul_orange_layer = mul_layer()\n",
    "add_apple_orange_layer = add_layer()\n",
    "mul_tax_layer = mul_layer()\n",
    "\n",
    "# forward\n",
    "apple_price = mul_apple_layer.forward(price_per_apple, n_apples)\n",
    "orange_price = mul_orange_layer.forward(price_per_orange, n_oranges)\n",
    "all_price = add_apple_orange_layer.forward(apple_price, orange_price)\n",
    "total_price = mul_tax_layer.forward(all_price, tax)\n",
    "print(\"total price: %i\" % total_price)\n",
    "\n",
    "# backward\n",
    "dprice = 1 # dz / dz = 1\n",
    "d_all_price, d_tax = mul_tax_layer.backward(dprice)\n",
    "d_apple_price, d_orange_price = add_apple_orange_layer.backward(d_all_price)\n",
    "d_orange_price, d_orange_num = mul_orange_layer.backward(d_orange_price)\n",
    "d_apple_price, d_apple_num = mul_apple_layer.backward(d_apple_price)\n",
    "\n",
    "print(\"dApple: %.2f\" % d_apple_price)\n",
    "print(\"dApple_num: %.2f\" % d_apple_num)\n",
    "print(\"dOrange: %.2f\" % d_orange_price)\n",
    "print(\"dOrange_num: %.2f\" % d_orange_num)\n",
    "print(\"dTax: %.2f\" % d_tax)\n"
   ]
  },
  {
   "cell_type": "markdown",
   "metadata": {},
   "source": [
    "# Create network by layers and use gradient descent\n",
    "### Real example"
   ]
  },
  {
   "cell_type": "code",
   "execution_count": 32,
   "metadata": {
    "collapsed": true
   },
   "outputs": [],
   "source": [
    "# Define other layer functions\n",
    "class sigmoid_layer():\n",
    "    def __init__(self):\n",
    "        self.out = None\n",
    "    def forward(self, x):\n",
    "        out = 1 / (1 + np.exp(-x))\n",
    "        self.out = out\n",
    "        return out\n",
    "    def backward(self, dout):\n",
    "        dx = dout * (1.0 - self.out) * self.out # dL/dy * y * (1-y)\n",
    "        return dx\n",
    "    \n",
    "class relu_layer():\n",
    "    def __init__(self):\n",
    "        self.mask = None\n",
    "    \n",
    "    def forward(self, x):\n",
    "        self.mask = (x <= 0)\n",
    "        out = x.copy()\n",
    "        out[self.mask] = 0\n",
    "        return out\n",
    "    def backward(self, dout):\n",
    "        dout[self.mask] = 0\n",
    "        dx = dout\n",
    "        return dx\n",
    "\n",
    "class affine_layer():\n",
    "    def __init__(self, W, b):\n",
    "        self.W = W\n",
    "        self.b = b\n",
    "        self.x = None\n",
    "        self.original_x_shape = None\n",
    "        self.dW =None\n",
    "        self.db = None\n",
    "        \n",
    "    def forward(self, x):\n",
    "        self.original_x_shape = x.shape\n",
    "        x = x.reshape(x.shape[0], -1)\n",
    "        \n",
    "        self.x = x\n",
    "        out = np.dot(self.x, self.W) + self.b\n",
    "        \n",
    "        return out\n",
    "    \n",
    "    def backward(self, dout):\n",
    "        dx = np.dot(dout, self.W.T)\n",
    "        \n",
    "        self.dW = np.dot(self.x.T, dout)\n",
    "        self.db = np.sum(dout, axis = 0)\n",
    "        dx = dx.reshape(*self.original_x_shape)\n",
    "        \n",
    "        return dx\n",
    "    \n",
    "def softmax(x):\n",
    "    if x.ndim == 2:\n",
    "        x = x.T # Transpose it\n",
    "        x = x - np.max(x, axis=0)\n",
    "        y = np.exp(x) / np.sum(np.exp(x), axis=0)\n",
    "        return y.T \n",
    "    return np.exp(x) / np.sum(np.exp(x))\n",
    "\n",
    "# define cross_entropy\n",
    "def cross_entropy(y, t):\n",
    "    if y.ndim == 1:\n",
    "        t = t.reshape(1, t.size)\n",
    "        y = y.reshape(1, y.size)\n",
    "        \n",
    "    if t.size == y.size:\n",
    "        t = t.argmax(axis=1)\n",
    "             \n",
    "    batch_size = y.shape[0]\n",
    "    return -np.sum(np.log(y[np.arange(batch_size), t] + 1e-7)) / batch_size\n",
    "\n",
    "class softmax_with_crossentropy():\n",
    "    def __init__(self):\n",
    "        self.loss = None\n",
    "        self.y = None # softmax output\n",
    "        self.t = None # target (ground-truth)\n",
    "        \n",
    "    def forward(self, x, t):\n",
    "        self.t = t\n",
    "        self.y = softmax(x)\n",
    "        self.loss = cross_entropy(self.y, self.t)\n",
    "        \n",
    "        return self.loss\n",
    "    def backward(self, dout = 1):\n",
    "        batch_size = self.t.shape[0]\n",
    "        dx = (self.y - self.t) / batch_size\n",
    "        \n",
    "        return dx"
   ]
  },
  {
   "cell_type": "code",
   "execution_count": 49,
   "metadata": {
    "collapsed": true
   },
   "outputs": [],
   "source": [
    "from collections import OrderedDict # this is a built-in function -- dictionary with order\n",
    "\n",
    "class Two_layerNet_bp:\n",
    "    def __init__(self, \n",
    "                 input_size, \n",
    "                 hidden_size, \n",
    "                 output_size, \n",
    "                 weight_init_std = 0.01):\n",
    "        self.params = {}\n",
    "        self.params['w1'] = weight_init_std * np.random.randn(input_size, hidden_size)\n",
    "        self.params['b1'] = np.zeros(hidden_size)\n",
    "        self.params['w2'] = weight_init_std * np.random.randn(hidden_size, output_size)\n",
    "        self.params['b2'] = np.zeros(output_size)\n",
    "        \n",
    "        # build network\n",
    "        self.layers = OrderedDict()\n",
    "        self.layers['affine_1'] = affine_layer(self.params['w1'], self.params['b1'])\n",
    "        self.layers['sigmoid_1'] = sigmoid_layer()\n",
    "        self.layers['affine_2'] = affine_layer(self.params['w2'], self.params['b2'])\n",
    "        # output layer\n",
    "        self.lastlayer = softmax_with_crossentropy()\n",
    "        \n",
    "    def predict(self, x):\n",
    "        # forward\n",
    "        for layer in self.layers.values():\n",
    "            x = layer.forward(x)\n",
    "        \n",
    "        return x\n",
    "        \n",
    "    def loss(self, x, y_true):\n",
    "        y_pred = self.predict(x)\n",
    "        return self.lastlayer.forward(y_pred, y_true)\n",
    "    \n",
    "    def compute_acc(self, x, y_true):\n",
    "        y_pred = self.predict(x)\n",
    "        # take argmax\n",
    "        y_pred = y_pred.argmax(axis = 1) \n",
    "        y_true = y_true.argmax(axis = 1)\n",
    "        \n",
    "        acc = np.sum(y_pred == y_true) / len(y_true)\n",
    "        return acc\n",
    "    \n",
    "    def gradient(self, x, t):\n",
    "        # forward path\n",
    "        self.loss(x, t)\n",
    "        \n",
    "        # backward\n",
    "        dout = 1\n",
    "        dout = self.lastlayer.backward(dout)\n",
    "        \n",
    "        layers = list(self.layers.values())\n",
    "        layers.reverse()\n",
    "        for layer in layers:\n",
    "            dout = layer.backward(dout)\n",
    "        \n",
    "        # gradient init and setting\n",
    "        grads = {}\n",
    "        grads['w1'] = self.layers['affine_1'].dW\n",
    "        grads['b1'] = self.layers['affine_1'].db\n",
    "        grads['w2'] = self.layers['affine_2'].dW\n",
    "        grads['b2'] = self.layers['affine_2'].db\n",
    "        \n",
    "        return grads"
   ]
  },
  {
   "cell_type": "code",
   "execution_count": 50,
   "metadata": {
    "collapsed": false
   },
   "outputs": [
    {
     "name": "stderr",
     "output_type": "stream",
     "text": [
      "100%|████████████████████████████████████████████████████| 5001/5001 [00:02<00:00, 2101.10it/s]\n"
     ]
    },
    {
     "data": {
      "image/png": "[encoded data removed]",
      "text/plain": [
       "<matplotlib.figure.Figure at 0x1d59e8c2518>"
      ]
     },
     "metadata": {},
     "output_type": "display_data"
    },
    {
     "data": {
      "image/png": "[encoded data removed]",
      "text/plain": [
       "<matplotlib.figure.Figure at 0x1d59c44cc88>"
      ]
     },
     "metadata": {},
     "output_type": "display_data"
    }
   ],
   "source": [
    "from sklearn.datasets import load_digits\n",
    "from sklearn.model_selection import train_test_split\n",
    "from tqdm import tqdm\n",
    "digits = load_digits()\n",
    "\n",
    "x_, y_ = digits.data, digits.target\n",
    "\n",
    "# do some data preprocessing\n",
    "y_one_hot = np.zeros((len(y_), 10))\n",
    "y_one_hot[np.arange(len(y_)), y_] = 1\n",
    "\n",
    "x_ = x_ / x_.max() # normailze it to 0 - 1\n",
    "\n",
    "# do train_test split\n",
    "x_train, x_test, y_train, y_test = train_test_split(x_, y_one_hot, test_size = 0.1, stratify = y_)\n",
    "\n",
    "# define training settings ------------\n",
    "train_loss_list = []\n",
    "train_acc_list = []\n",
    "test_acc_list = []\n",
    "\n",
    "iters_num = 5001\n",
    "train_size = x_train.shape[0] # numbers of training samples\n",
    "bz = 100 # batch size\n",
    "lr = 0.1 # learning rate\n",
    "\n",
    "network = Two_layerNet_bp(input_size=64, hidden_size=25, output_size=10)\n",
    "\n",
    "for i in tqdm(range(iters_num)):\n",
    "    batch_mask = np.random.choice(train_size, bz)\n",
    "    x_batch = x_train[batch_mask]\n",
    "    y_batch = y_train[batch_mask]\n",
    "    \n",
    "    grad = network.gradient(x_batch, y_batch) # already contain a feed-forward processing in this step\n",
    "    \n",
    "    for key in (\"w1\", \"b1\", \"w2\", \"b2\"):\n",
    "        network.params[key] -= lr * grad[key]\n",
    "        \n",
    "    this_loss = network.loss(x_batch, y_batch)\n",
    "    train_loss_list.append(this_loss)\n",
    "    \n",
    "    if i % 100 == 0:\n",
    "        # compute accuracy for every 50 updates\n",
    "        train_acc = network.compute_acc(x_train, y_train)\n",
    "        test_acc = network.compute_acc(x_test, y_test)\n",
    "        \n",
    "        train_acc_list.append(train_acc)\n",
    "        test_acc_list.append(test_acc)\n",
    "        \n",
    "        #print(\"Train accuarcy, Test accuracy | \" + str(train_acc) + \", \" + str(test_acc))\n",
    "        \n",
    "plt.plot(np.arange(len(train_loss_list)), train_loss_list, 'b-')\n",
    "plt.show()\n",
    "\n",
    "plt.plot(np.arange(len(train_acc_list)), train_acc_list, 'b-', label = 'training accuracy')\n",
    "plt.plot(np.arange(len(test_acc_list)), test_acc_list, 'r-', label = 'validation accuracy')\n",
    "plt.legend(bbox_to_anchor=(1.05, 1), loc=2, borderaxespad=0.)\n",
    "plt.show()"
   ]
  },
  {
   "cell_type": "markdown",
   "metadata": {},
   "source": [
    "#### Reference: Deep learning, build up network from scratch with Python\n",
    "https://www.tenlong.com.tw/products/9789864764846"
   ]
  }
 ],
 "metadata": {
  "anaconda-cloud": {},
  "kernelspec": {
   "display_name": "Python [default]",
   "language": "python",
   "name": "python3"
  },
  "language_info": {
   "codemirror_mode": {
    "name": "ipython",
    "version": 3
   },
   "file_extension": ".py",
   "mimetype": "text/x-python",
   "name": "python",
   "nbconvert_exporter": "python",
   "pygments_lexer": "ipython3",
   "version": "3.5.2"
  }
 },
 "nbformat": 4,
 "nbformat_minor": 2
}
